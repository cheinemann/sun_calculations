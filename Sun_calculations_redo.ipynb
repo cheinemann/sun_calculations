{
 "cells": [
  {
   "cell_type": "code",
   "execution_count": 1,
   "metadata": {},
   "outputs": [],
   "source": [
    "import math\n",
    "import numpy as np"
   ]
  },
  {
   "cell_type": "code",
   "execution_count": 28,
   "metadata": {},
   "outputs": [
    {
     "name": "stdout",
     "output_type": "stream",
     "text": [
      "2.799999999999997\n"
     ]
    }
   ],
   "source": [
    "#Set arbitrary valuesfor later calculations#\n",
    "\n",
    "#FIX: take into account daylight saving time like in Example 11.1 from chapter\n",
    "    #ignoring for now\n",
    "\n",
    "#set pi\n",
    "PI = 3.14159265\n",
    "\n",
    "#set latitude, day_of_year, hour_of_day (arbitrary for now)\n",
    "latitude = 46.77 #(in degrees)\n",
    "longitude = 117.2 #(in degrees)\n",
    "standard_meridian = 120.0 #(in degrees)\n",
    "\n",
    "local_meridian = standard_meridian - longitude\n",
    "#FIX: take into account negative longitude\n",
    "print(local_meridian)\n",
    "\n",
    "#longitudinal_correction in hours\n",
    "#longitudinal_correction = local_meridian / (15) #15 degrees / hour\n",
    "#print(longitudinal_correction)\n",
    "\n",
    "day_of_year = 181 #equivalent to June 30\n",
    "\n",
    "#FIX: Take into account fractions of hours as well (will need to convert to decimal hours, i.e. 10:45 becomes 10.75)\n",
    "hour_of_day = 10"
   ]
  },
  {
   "cell_type": "code",
   "execution_count": 29,
   "metadata": {},
   "outputs": [],
   "source": [
    "radians_per_degree = PI / 180\n",
    "solar_noon = 12\n",
    "radians_rotation_per_hour = 15 * radians_per_degree\n",
    "axial_tilt = 23.5 * radians_per_degree"
   ]
  },
  {
   "cell_type": "code",
   "execution_count": 30,
   "metadata": {},
   "outputs": [],
   "source": [
    "phi = latitude * radians_per_degree\n",
    "\n",
    "#from sun model code in HackMD: https://hackmd.io/98rj0V82RSyrDavaFxQbEg \n",
    "number_days_after_dec_solstice = day_of_year + 10"
   ]
  },
  {
   "cell_type": "code",
   "execution_count": 31,
   "metadata": {},
   "outputs": [],
   "source": [
    "omega = 360.0 * (number_days_after_dec_solstice / 365.0) * radians_per_degree\n",
    "delta = -axial_tilt * math.cos(omega)\n",
    "tau = (hour_of_day - solar_noon) * radians_rotation_per_hour"
   ]
  },
  {
   "cell_type": "code",
   "execution_count": 45,
   "metadata": {},
   "outputs": [
    {
     "name": "stdout",
     "output_type": "stream",
     "text": [
      "457.9686\n",
      "-0.2382447592640193\n"
     ]
    }
   ],
   "source": [
    "#Equation of time\n",
    "f = 279.575 + (0.9856 * J)\n",
    "print(f)\n",
    "\n",
    "#FIX: not getting same result as Equation 11.1 with same input as example\n",
    "equation_of_time = ((-(104.7 * math.sin(f)) + (596.2 * math.sin(2 * f)) + (4.3 * math.sin(3 * f)) - (12.7 * math.sin(4 * f)) - (429.3 * math.cos(f)) - (2.0 * math.cos(2 * f)) + (19.3 * math.cos(3 * f))) / 3600)\n",
    "print(equation_of_time)"
   ]
  },
  {
   "cell_type": "code",
   "execution_count": 35,
   "metadata": {},
   "outputs": [
    {
     "name": "stdout",
     "output_type": "stream",
     "text": [
      "0.18666666666666648\n"
     ]
    }
   ],
   "source": [
    "#longitudinal correction (equation 11.3 from chapter)\n",
    "#time of solar noon: 50 = 12 - longitudinal_correction - equation_of_time\n",
    "\n",
    "longitudinal_correction = local_meridian / 15 #in hours\n",
    "print(longitudinal_correction)"
   ]
  },
  {
   "cell_type": "code",
   "execution_count": 37,
   "metadata": {},
   "outputs": [
    {
     "name": "stdout",
     "output_type": "stream",
     "text": [
      "12.051578092597353\n"
     ]
    }
   ],
   "source": [
    "#Time of solar noon\n",
    "\n",
    "t0 = 12 - longitudinal_correction - equation_of_time\n",
    "print(t0)"
   ]
  },
  {
   "cell_type": "code",
   "execution_count": 38,
   "metadata": {},
   "outputs": [
    {
     "name": "stdout",
     "output_type": "stream",
     "text": [
      "181\n",
      "0.08659870542912775\n"
     ]
    }
   ],
   "source": [
    "#Solar declination\n",
    "#should range from +23.45 degrees at summer solstice to -23.45 degrees at winter solstice\n",
    "\n",
    "J = day_of_year\n",
    "print(J)\n",
    "\n",
    "solar_declination = math.asin(0.39785 * (math.sin(278.97 + (0.9856 * J) + (1.9165 * math.sin(356.6 + (0.9856 * J))))))\n",
    "\n",
    "print(solar_declination)"
   ]
  },
  {
   "cell_type": "code",
   "execution_count": 51,
   "metadata": {},
   "outputs": [
    {
     "name": "stdout",
     "output_type": "stream",
     "text": [
      "2.3722069734999054\n"
     ]
    }
   ],
   "source": [
    "#calculate zenith angle\n",
    "\n",
    "#FIX: incorrect \n",
    "#zenith_angle = math.acos((math.sin(latitude) * math.sin(solar_declination)) + (math.cos(latitude) * math.cos(solar_declination) * math.cos(15 * (hour_of_day - solar_noon))))\n",
    "zenith_angle = math.acos((math.sin(latitude) * math.sin(solar_declination)) + (math.cos(latitude) * math.cos(solar_declination) * math.cos(15 * (hour_of_day - t0))))\n",
    "\n",
    "print(zenith_angle)"
   ]
  },
  {
   "cell_type": "code",
   "execution_count": 52,
   "metadata": {},
   "outputs": [
    {
     "name": "stdout",
     "output_type": "stream",
     "text": [
      "1.0309508264461384\n"
     ]
    }
   ],
   "source": [
    "#Azimuth angle\n",
    "azimuth_angle = math.acos(-(math.sin(solar_declination) - (math.cos(zenith_angle) * math.sin(latitude))) / (math.cos(latitude) * math.sin(zenith_angle)))\n",
    "print(azimuth_angle)     "
   ]
  },
  {
   "cell_type": "code",
   "execution_count": 53,
   "metadata": {},
   "outputs": [
    {
     "name": "stdout",
     "output_type": "stream",
     "text": [
      "-0.5179471468950357\n",
      "2.1152456894268927\n"
     ]
    }
   ],
   "source": [
    "#half daylength = time (in degrees) from sunrise to solar noon\n",
    "#daylength is twice the half daylength in degrees divided by 15 degrees per hour\n",
    "\n",
    "numerator = math.cos(azimuth_angle) - (math.sin(latitude) * math.sin(solar_declination))\n",
    "denominator = math.cos(latitude) * math.cos(solar_declination)\n",
    "\n",
    "fraction = numerator / denominator\n",
    "print(fraction)\n",
    "\n",
    "#FIX: incorrect output\n",
    "half_daylength = math.acos(fraction)\n",
    "print(half_daylength)"
   ]
  },
  {
   "cell_type": "code",
   "execution_count": 54,
   "metadata": {},
   "outputs": [
    {
     "name": "stdout",
     "output_type": "stream",
     "text": [
      "11.858983620704874\n"
     ]
    }
   ],
   "source": [
    "#time of sunrise\n",
    "\n",
    "time_sunrise = solar_noon - (half_daylength / 15)\n",
    "print(time_sunrise)"
   ]
  },
  {
   "cell_type": "code",
   "execution_count": 55,
   "metadata": {},
   "outputs": [
    {
     "name": "stdout",
     "output_type": "stream",
     "text": [
      "0.14101637929512617\n",
      "11.910561713302227\n"
     ]
    }
   ],
   "source": [
    "hours = half_daylength * (1 / 15)\n",
    "print(hours)\n",
    "\n",
    "first_twilight = t0 - hours #(solar time)\n",
    "print(first_twilight)"
   ]
  },
  {
   "cell_type": "code",
   "execution_count": 56,
   "metadata": {},
   "outputs": [
    {
     "name": "stdout",
     "output_type": "stream",
     "text": [
      "11.858983620704874\n"
     ]
    }
   ],
   "source": [
    "daylength = 2 * half_daylength\n",
    "time_sunrise = first_twilight + longitudinal_correction + equation_of_time\n",
    "print(time_sunrise)"
   ]
  },
  {
   "cell_type": "code",
   "execution_count": null,
   "metadata": {},
   "outputs": [],
   "source": []
  }
 ],
 "metadata": {
  "kernelspec": {
   "display_name": "Python 3",
   "language": "python",
   "name": "python3"
  },
  "language_info": {
   "codemirror_mode": {
    "name": "ipython",
    "version": 3
   },
   "file_extension": ".py",
   "mimetype": "text/x-python",
   "name": "python",
   "nbconvert_exporter": "python",
   "pygments_lexer": "ipython3",
   "version": "3.7.1"
  }
 },
 "nbformat": 4,
 "nbformat_minor": 2
}
