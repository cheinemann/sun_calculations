{
 "cells": [
  {
   "cell_type": "code",
   "execution_count": 2,
   "metadata": {},
   "outputs": [],
   "source": [
    "import math\n",
    "import numpy as np"
   ]
  },
  {
   "cell_type": "code",
   "execution_count": 4,
   "metadata": {},
   "outputs": [
    {
     "name": "stdout",
     "output_type": "stream",
     "text": [
      "2.799999999999997\n"
     ]
    }
   ],
   "source": [
    "#Set arbitrary valuesfor later calculations#\n",
    "\n",
    "#FIX: take into account daylight saving time like in Example 11.1 from chapter\n",
    "    #ignoring for now\n",
    "\n",
    "#set pi\n",
    "PI = 3.14159265\n",
    "\n",
    "#set latitude, day_of_year, hour_of_day (arbitrary for now)\n",
    "latitude = 46.77 #(in degrees)\n",
    "longitude = 117.2 #(in degrees)\n",
    "standard_meridian = 120.0 #(in degrees)\n",
    "\n",
    "#LOCAL MERIDIAN IN DEGREES\n",
    "local_meridian = standard_meridian - longitude\n",
    "#FIX: take into account negative longitude\n",
    "print(local_meridian)\n",
    "\n",
    "#longitudinal_correction in hours\n",
    "#longitudinal_correction = local_meridian / (15) #15 degrees / hour\n",
    "#print(longitudinal_correction)\n",
    "\n",
    "day_of_year = 181 #equivalent to June 30\n",
    "\n",
    "#FIX: Take into account fractions of hours as well (will need to convert to decimal hours, i.e. 10:45 becomes 10.75)\n",
    "hour_of_day = 9.75"
   ]
  },
  {
   "cell_type": "code",
   "execution_count": 5,
   "metadata": {},
   "outputs": [],
   "source": [
    "radians_per_degree = PI / 180\n",
    "solar_noon = 12\n",
    "radians_rotation_per_hour = 15 * radians_per_degree\n",
    "axial_tilt = 23.5 * radians_per_degree"
   ]
  },
  {
   "cell_type": "code",
   "execution_count": 6,
   "metadata": {},
   "outputs": [],
   "source": [
    "phi = latitude * radians_per_degree\n",
    "\n",
    "#from sun model code in HackMD: https://hackmd.io/98rj0V82RSyrDavaFxQbEg \n",
    "number_days_after_dec_solstice = day_of_year + 10"
   ]
  },
  {
   "cell_type": "code",
   "execution_count": 7,
   "metadata": {},
   "outputs": [],
   "source": [
    "omega = 360.0 * (number_days_after_dec_solstice / 365.0) * radians_per_degree\n",
    "delta = -axial_tilt * math.cos(omega)\n",
    "tau = (hour_of_day - solar_noon) * radians_rotation_per_hour"
   ]
  },
  {
   "cell_type": "code",
   "execution_count": 74,
   "metadata": {},
   "outputs": [
    {
     "name": "stdout",
     "output_type": "stream",
     "text": [
      "-0.05799307396328135\n"
     ]
    }
   ],
   "source": [
    "#Equation of time\n",
    "#in hours\n",
    "\n",
    "J = day_of_year\n",
    "f = 279.575 + (0.9856 * J)\n",
    "#print(f)\n",
    "\n",
    "f_rad = math.radians(f)\n",
    "part_1 = math.sin(f_rad) * -104.7\n",
    "\n",
    "f2 = f * 2\n",
    "f2_rad = math.radians(f2)\n",
    "part_2 = math.sin(f2_rad) * 596.2\n",
    "\n",
    "f3 = f * 3\n",
    "f3_rad = math.radians(f3)\n",
    "part_3 = math.sin(f3_rad) * 4.3\n",
    "\n",
    "f4 = f * 4\n",
    "f4_rad = math.radians(f4)\n",
    "part_4 = math.sin(f4_rad) * 12.7\n",
    "\n",
    "part_5 = math.cos(f_rad) * 429.3\n",
    "\n",
    "part_6 = math.cos(f2_rad) * 2.0\n",
    "\n",
    "part_7 = math.cos(f3_rad) * 19.3\n",
    "\n",
    "all_together = part_1 + part_2 + part_3 - part_4 - part_5 - part_6 + part_7\n",
    "\n",
    "equation_of_time = all_together / 3600\n",
    "print(equation_of_time)\n",
    "\n",
    "\n",
    "\n",
    "#equation_of_time = ((-(104.7 * math.sin(f)) + (596.2 * math.sin(2 * f)) + (4.3 * math.sin(3 * f)) - (12.7 * math.sin(4 * f)) - (429.3 * math.cos(f)) - (2.0 * math.cos(2 * f)) + (19.3 * math.cos(3 * f))) / 3600)\n",
    "#print(equation_of_time)\n"
   ]
  },
  {
   "cell_type": "code",
   "execution_count": 12,
   "metadata": {},
   "outputs": [
    {
     "name": "stdout",
     "output_type": "stream",
     "text": [
      "0.18666666666666648\n"
     ]
    }
   ],
   "source": [
    "#longitudinal correction (equation 11.3 from chapter)\n",
    "#time of solar noon: 50 = 12 - longitudinal_correction - equation_of_time\n",
    "\n",
    "longitudinal_correction = local_meridian / 15 #in hours\n",
    "print(longitudinal_correction)"
   ]
  },
  {
   "cell_type": "code",
   "execution_count": 75,
   "metadata": {},
   "outputs": [
    {
     "name": "stdout",
     "output_type": "stream",
     "text": [
      "11.871326407296616\n"
     ]
    }
   ],
   "source": [
    "#Time of solar noon\n",
    "#in hours\n",
    "\n",
    "t0 = 12 - longitudinal_correction - equation_of_time\n",
    "print(t0)"
   ]
  },
  {
   "cell_type": "code",
   "execution_count": 76,
   "metadata": {},
   "outputs": [
    {
     "name": "stdout",
     "output_type": "stream",
     "text": [
      "23.22970127409204\n"
     ]
    }
   ],
   "source": [
    "#Solar declination\n",
    "#should range from +23.45 degrees at summer solstice to -23.45 degrees at winter solstice\n",
    "\n",
    "times_j = 0.9856 * J\n",
    "inside_sine = 356.6 + times_j\n",
    "inside_sine_rad = math.radians(inside_sine)\n",
    "\n",
    "inner_sin = math.sin(math.radians(inside_sine))\n",
    "\n",
    "additions = 278.97 + times_j + (1.9165 * inner_sin)\n",
    "additions_rad = math.radians(additions)\n",
    "sin_of_adds = math.sin(additions_rad)\n",
    "times_const = 0.39785 * sin_of_adds\n",
    "\n",
    "final_in_rad = math.asin(times_const)\n",
    "\n",
    "solar_declination = math.degrees(final_in_rad)\n",
    "print(solar_declination)\n",
    "\n",
    "#solar_declination = math.asin(0.39785 * (math.sin(278.97 + (0.9856 * J) + (1.9165 * math.sin(356.6 + (0.9856 * J))))))\n",
    "#print(solar_declination)"
   ]
  },
  {
   "cell_type": "code",
   "execution_count": 93,
   "metadata": {
    "scrolled": true
   },
   "outputs": [
    {
     "name": "stdout",
     "output_type": "stream",
     "text": [
      "34.6957452582854\n"
     ]
    }
   ],
   "source": [
    "#calculate zenith angle\n",
    "\n",
    "latitude_rad = math.radians(latitude)\n",
    "solar_declination_rad = math.radians(solar_declination)\n",
    "\n",
    "sin_1 = math.sin(latitude_rad)\n",
    "sin_2 = math.sin(solar_declination_rad)\n",
    "\n",
    "cos_1 = math.cos(latitude_rad)\n",
    "cos_2 = math.cos(solar_declination_rad)\n",
    "\n",
    "inside_cos = 15 * (hour_of_day - t0)\n",
    "inside_cos_rad = math.radians(inside_cos)\n",
    "\n",
    "cos_3 = math.cos(inside_cos_rad)\n",
    "\n",
    "before_arccos = (sin_1 * sin_2) + (cos_1 * cos_2 * cos_3)\n",
    "\n",
    "zenith_angle_rad = math.acos(before_arccos)\n",
    "\n",
    "zenith_angle = math.degrees(zenith_angle_rad)\n",
    "print(zenith_angle)\n",
    "\n",
    "#FIX: incorrect \n",
    "#zenith_angle = math.acos((math.sin(latitude) * math.sin(solar_declination)) + (math.cos(latitude) * math.cos(solar_declination) * math.cos(15 * (hour_of_day - solar_noon))))\n",
    "\n",
    "#print(zenith_angle)"
   ]
  },
  {
   "cell_type": "code",
   "execution_count": 95,
   "metadata": {
    "scrolled": true
   },
   "outputs": [],
   "source": [
    "#Azimuth angle\n",
    "#azimuth_angle = math.acos(-(math.sin(solar_declination) - (math.cos(zenith_angle) * math.sin(latitude))) / (math.cos(latitude) * math.sin(zenith_angle)))\n",
    "#print(azimuth_angle)     "
   ]
  },
  {
   "cell_type": "code",
   "execution_count": 106,
   "metadata": {},
   "outputs": [
    {
     "name": "stdout",
     "output_type": "stream",
     "text": [
      "128.5108818439009\n"
     ]
    }
   ],
   "source": [
    "#half daylength = time (in degrees) from sunrise to solar noon\n",
    "#daylength is twice the half daylength in degrees divided by 15 degrees per hour\n",
    "\n",
    "####FIX: using hard coded 96 --> need to figure out where it is coming from\n",
    "\n",
    "ninety_six_rad = math.radians(96)\n",
    "first_cos = math.cos(ninety_six_rad)\n",
    "\n",
    "sins = math.sin(latitude_rad) * math.sin(solar_declination_rad)\n",
    "\n",
    "cosines = math.cos(latitude_rad) * math.cos(solar_declination_rad)\n",
    "\n",
    "equation = (first_cos - sins) / cosines\n",
    "\n",
    "equation_acos = math.acos(equation)\n",
    "\n",
    "half_daylength = math.degrees(equation_acos)\n",
    "print(half_daylength)\n",
    "\n",
    "#numerator = math.cos(azimuth_angle) - (math.sin(latitude) * math.sin(solar_declination))\n",
    "#denominator = math.cos(latitude) * math.cos(solar_declination)\n",
    "\n",
    "#fraction = numerator / denominator\n",
    "#print(fraction)\n",
    "\n",
    "#FIX: incorrect output\n",
    "#half_daylength = math.acos(fraction)\n",
    "#print(half_daylength)"
   ]
  },
  {
   "cell_type": "code",
   "execution_count": 107,
   "metadata": {},
   "outputs": [
    {
     "name": "stdout",
     "output_type": "stream",
     "text": [
      "3.4326078770732735\n"
     ]
    }
   ],
   "source": [
    "#time of sunrise\n",
    "\n",
    "time_sunrise = solar_noon - (half_daylength / 15)\n",
    "print(time_sunrise)"
   ]
  },
  {
   "cell_type": "code",
   "execution_count": 108,
   "metadata": {},
   "outputs": [
    {
     "name": "stdout",
     "output_type": "stream",
     "text": [
      "8.567392122926726\n",
      "3.3039342843698893\n"
     ]
    }
   ],
   "source": [
    "hours = half_daylength * (1 / 15)\n",
    "print(hours)\n",
    "\n",
    "first_twilight = t0 - hours #(solar time)\n",
    "print(first_twilight)"
   ]
  },
  {
   "cell_type": "code",
   "execution_count": 112,
   "metadata": {},
   "outputs": [
    {
     "name": "stdout",
     "output_type": "stream",
     "text": [
      "17.134784245853453\n",
      "4.432607877073274\n"
     ]
    }
   ],
   "source": [
    "daylength = 2 * hours\n",
    "print(daylength)\n",
    "\n",
    "#including a +1 to take care of datylight savings time for now (need to fix)\n",
    "time_sunrise = first_twilight + longitudinal_correction + equation_of_time + 1\n",
    "print(time_sunrise)"
   ]
  },
  {
   "cell_type": "code",
   "execution_count": null,
   "metadata": {},
   "outputs": [],
   "source": []
  }
 ],
 "metadata": {
  "kernelspec": {
   "display_name": "Python 3",
   "language": "python",
   "name": "python3"
  },
  "language_info": {
   "codemirror_mode": {
    "name": "ipython",
    "version": 3
   },
   "file_extension": ".py",
   "mimetype": "text/x-python",
   "name": "python",
   "nbconvert_exporter": "python",
   "pygments_lexer": "ipython3",
   "version": "3.7.1"
  }
 },
 "nbformat": 4,
 "nbformat_minor": 2
}
