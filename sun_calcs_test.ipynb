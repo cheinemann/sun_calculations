{
 "cells": [
  {
   "cell_type": "code",
   "execution_count": 1,
   "metadata": {},
   "outputs": [],
   "source": [
    "import math\n",
    "import numpy as np\n",
    "import matplotlib.pyplot as plt\n",
    "import pandas as pd\n",
    "\n",
    "#FIX: take into account daylight savings time like in Example 11.1\n",
    "#ignoring for now\n",
    "\n",
    "#latitude = 46.77 #(in degrees)\n",
    "#longitude = 117.2 #(in degrees)\n",
    "latitude = 22.9068\n",
    "longitude = 43.1729\n",
    "standard_meridian = 120.0 #(in degrees)\n",
    "day_of_year = 181 #equivalent to June 30\n",
    "\n",
    "#FIX: figure out where this came from in old raytracer\n",
    "kSOLAR_constant = 2600\n",
    "\n",
    "hours_before_decimal = \"9:45\"\n",
    "(hh, mm) = hours_before_decimal.split(':')\n",
    "hour_of_day = int(hh) + (int(mm) * (1 / 60))\n",
    "#print(\"hour_of_day: \", hour_of_day)\n",
    "\n",
    "\n",
    "######\n",
    "\n",
    "def sun_calcs(latitude, longitude, standard_meridian, day_of_year, hour_of_day):\n",
    "    solar_noon = 12\n",
    "    \n",
    "    #LOCAL MERIDIAN IN DEGREES\n",
    "    local_meridian = standard_meridian - longitude\n",
    "    #print(\"local meridian\")\n",
    "    #print(local_meridian)\n",
    "\n",
    "    radians_per_degree = np.pi / 180\n",
    "\n",
    "    radians_rotation_per_hour = 15 * radians_per_degree\n",
    "    axial_tilt = 13.5 * radians_per_degree\n",
    "\n",
    "    phi = latitude * radians_per_degree\n",
    "\n",
    "    #from sun model code in HackMD: https://hackmd.io/98rj0V82RSyrDavaFxQbEg\n",
    "    number_days_after_dec_solstice = day_of_year + 10\n",
    "\n",
    "    omega = 360.0 * (number_days_after_dec_solstice / 365.0) * radians_per_degree\n",
    "    delta = -axial_tilt * math.cos(omega)\n",
    "    tau = (hour_of_day - solar_noon) * radians_rotation_per_hour\n",
    "\n",
    "    #equation of time (in hours)\n",
    "    J = day_of_year\n",
    "    f = 279.575 + (0.9856 * J)\n",
    "\n",
    "    f_rad = math.radians(f)\n",
    "    part_1 = math.sin(f_rad) * -104.7\n",
    "\n",
    "    f2 = f * 2\n",
    "    f2_rad = math.radians(f2)\n",
    "    part_2 = math.sin(f2_rad) * 596.2\n",
    "\n",
    "    f3 = f * 3\n",
    "    f3_rad = math.radians(f3)\n",
    "    part_3 = math.sin(f3_rad) * 4.3\n",
    "\n",
    "    f4 = f * 4\n",
    "    f4_rad = math.radians(f4)\n",
    "    part_4 = math.sin(f4_rad) * 12.7\n",
    "\n",
    "    part_5 = math.cos(f_rad) * 429.3\n",
    "\n",
    "    part_6 = math.cos(f2_rad) * 2.0\n",
    "\n",
    "    part_7 = math.cos(f3_rad) * 19.3\n",
    "\n",
    "    all_together = part_1 + part_2 + part_3 - part_4 - part_5 - part_6 + part_7\n",
    "\n",
    "    equation_of_time = all_together / 3600\n",
    "    #print(\"equation of time\")\n",
    "    #print(equation_of_time)\n",
    "\n",
    "    longitudinal_correction = local_meridian / 15 #in hours\n",
    "    #print(\"logitudinal correction\")\n",
    "    #print(longitudinal_correction)\n",
    "\n",
    "    #time of solar noon (in hours)\n",
    "    t0 = 12 - longitudinal_correction - equation_of_time\n",
    "    #print(\"t0\")\n",
    "    #print(t0)\n",
    "\n",
    "    #solar declination\n",
    "    #should range from +23.45 degrees at summer solstice to -23.45 degrees at winter solstice\n",
    "    times_j = 0.9856 * J\n",
    "    inside_sine = 356.6 + times_j\n",
    "    inside_sine_rad = math.radians(inside_sine)\n",
    "\n",
    "    inner_sin = math.sin(math.radians(inside_sine))\n",
    "\n",
    "    additions = 278.97 + times_j + (1.9165 * inner_sin)\n",
    "    additions_rad = math.radians(additions)\n",
    "    sin_of_adds = math.sin(additions_rad)\n",
    "    times_const = 0.39785 * sin_of_adds\n",
    "\n",
    "    final_in_rad = math.asin(times_const)\n",
    "\n",
    "    solar_declination = math.degrees(final_in_rad)\n",
    "    #print(\"solar declination\")\n",
    "    #print(solar_declination)\n",
    "\n",
    "    #calculate zenith angle\n",
    "\n",
    "    latitude_rad = math.radians(latitude)\n",
    "    solar_declination_rad = math.radians(solar_declination)\n",
    "\n",
    "    sin_1 = math.sin(latitude_rad)\n",
    "    sin_2 = math.sin(solar_declination_rad)\n",
    "    \n",
    "    cos_1 = math.cos(latitude_rad)\n",
    "    cos_2 = math.cos(solar_declination_rad)\n",
    "\n",
    "    inside_cos = 15 * (hour_of_day - t0)\n",
    "    inside_cos_rad = math.radians(inside_cos)\n",
    "\n",
    "    cos_3 = math.cos(inside_cos_rad)\n",
    "\n",
    "    before_arccos = (sin_1 * sin_2) + (cos_1 * cos_2 * cos_3)\n",
    "    \n",
    "    zenith_angle_rad = math.acos(before_arccos)\n",
    "\n",
    "    zenith_angle = math.degrees(zenith_angle_rad)\n",
    "    #print(\"zenith angle\")\n",
    "    #print(zenith_angle)\n",
    "\n",
    "    ninety_six_rad = math.radians(96)\n",
    "    first_cos = math.cos(ninety_six_rad)\n",
    "\n",
    "    sins = math.sin(latitude_rad) * math.sin(solar_declination_rad)\n",
    "\n",
    "    cosines = math.cos(latitude_rad) * math.cos(solar_declination_rad)\n",
    "\n",
    "    equation = (first_cos - sins) / cosines\n",
    "    \n",
    "    #FIX: get error at certain latitudes/longitudes\n",
    "    equation_acos = math.acos(equation)\n",
    "\n",
    "    half_daylength = math.degrees(equation_acos)\n",
    "    #print(\"half daylength\")\n",
    "    #print(half_daylength)\n",
    "\n",
    "    time_sunrise = solar_noon - (half_daylength / 15)\n",
    "    #print(\"time sunrise\")\n",
    "    #print(time_sunrise)\n",
    "\n",
    "    hours = half_daylength * (1 / 15)\n",
    "    #print(\"hours\")\n",
    "    #print(hours)\n",
    "\n",
    "    first_twilight = t0 - hours\n",
    "    #print(\"first twilight\")\n",
    "    #print(first_twilight)\n",
    "\n",
    "    daylength = 2 * hours\n",
    "    #print(\"daylength\")\n",
    "    #print(daylength)\n",
    "\n",
    "    #FIX: including a +1 to take care of daylight savings time for now\n",
    "    time_sunrise = first_twilight + longitudinal_correction + equation_of_time + 1\n",
    "    #print(\"time sunrise\")\n",
    "    #print(time_sunrise)\n",
    "    \n",
    "    #return zenith_angle\n",
    "    return {'zenith': zenith_angle, 'half_daylength': half_daylength, 'time_sunrise': time_sunrise, 'hours': hours,'first_twilight': first_twilight, 'daylength': daylength}"
   ]
  },
  {
   "cell_type": "code",
   "execution_count": 2,
   "metadata": {},
   "outputs": [
    {
     "data": {
      "text/plain": [
       "{'zenith': 38.6924118268674,\n",
       " 'half_daylength': 107.7494835163534,\n",
       " 'time_sunrise': 5.816701098909774,\n",
       " 'hours': 7.183298901090226,\n",
       " 'first_twilight': -0.24711249379361178,\n",
       " 'daylength': 14.366597802180452}"
      ]
     },
     "execution_count": 2,
     "metadata": {},
     "output_type": "execute_result"
    }
   ],
   "source": [
    "sun_calcs(latitude, longitude, standard_meridian, day_of_year, hour_of_day)"
   ]
  },
  {
   "cell_type": "code",
   "execution_count": 3,
   "metadata": {},
   "outputs": [
    {
     "data": {
      "text/plain": [
       "[<matplotlib.lines.Line2D at 0x113fc4908>]"
      ]
     },
     "execution_count": 3,
     "metadata": {},
     "output_type": "execute_result"
    },
    {
     "data": {
      "image/png": "[encoded data removed]",
      "text/plain": [
       "<Figure size 432x288 with 1 Axes>"
      ]
     },
     "metadata": {
      "needs_background": "light"
     },
     "output_type": "display_data"
    }
   ],
   "source": [
    "vals = []\n",
    "for day in np.arange(365):\n",
    "    vals.append(sun_calcs(latitude, longitude, standard_meridian, day, hour_of_day))\n",
    "df = pd.DataFrame(vals)\n",
    "plt.plot(\"zenith\", data=df)\n",
    "#vals"
   ]
  },
  {
   "cell_type": "code",
   "execution_count": 4,
   "metadata": {},
   "outputs": [],
   "source": [
    "def calculation_PPFD(latitude, longitude, standard_meridian, day_of_year, hour_of_day):\n",
    "\n",
    "    solar_noon = 12\n",
    "    \n",
    "    h = 15 * (hour_of_day - solar_noon) / 180 * np.pi\n",
    "    print(h)\n",
    "\n",
    "    derta = -23.45 * np.cos(2 * np.pi * (day_of_year + 10) / 365) / 180 * np.pi\n",
    "    phi = latitude / 180 * np.pi\n",
    "    #FIX: double check the arcsin calculations here\n",
    "    thetas = np.arcsin((np.cos(h) * np.cos(derta) * np.cos(phi) + np.sin(derta) * np.sin(phi)))\n",
    "\n",
    "    temp = (np.sin(derta) * np.cos(phi) - np.cos(h) * np.cos(derta) * np.sin(phi)) / np.cos(thetas)\n",
    "\n",
    "    phys = 0\n",
    "\n",
    "    if temp >= 1:\n",
    "        phys = 0\n",
    "    else:\n",
    "        if temp < -1:\n",
    "            temp = -1\n",
    "\n",
    "    if h > 0:\n",
    "        phys = -phys\n",
    "\n",
    "    elevationAngle = thetas\n",
    "    azimuthAngle = phys\n",
    "\n",
    "    #Vect v\n",
    "    #v.x = cos(elevationAngle) * cos(azimuthAngle)\n",
    "    #v.y = cos(elevationAngle) * sin(azimuthAngle)\n",
    "    #v.z = -sin(elevationAngle)\n",
    "\n",
    "    ppfd = kSOLAR_constant * np.power(1.0, (1 / np.sin(elevationAngle))) * np.sin(elevationAngle)\n",
    "\n",
    "    #PPFD_dir_light_per_triangle[current_pixel] = ppfd\n"
   ]
  },
  {
   "cell_type": "code",
   "execution_count": 5,
   "metadata": {},
   "outputs": [
    {
     "name": "stdout",
     "output_type": "stream",
     "text": [
      "-0.5890486225480862\n"
     ]
    }
   ],
   "source": [
    "sun_calcs(latitude, longitude, standard_meridian, day_of_year, hour_of_day)\n",
    "calculation_PPFD(latitude, longitude, standard_meridian, day_of_year, hour_of_day)"
   ]
  },
  {
   "cell_type": "code",
   "execution_count": 6,
   "metadata": {},
   "outputs": [],
   "source": [
    "startHour = 11\n",
    "endHour = 12\n",
    "hourInterval = 1\n",
    "atmosphericTransmittance = 0.7\n",
    "\n",
    "def calculation_PPFD_climate(startHour, endHour, hourInterval, day_of_year, latitude):\n",
    "    solarTimeNoon = 12\n",
    "    \n",
    "    #num = (int)((endHour - startHour) / hourInterval)\n",
    "    hour = startHour + (i * hourInterval)\n",
    "    DERTA = -23.45 * np.cos(2 * np.pi * (day_of_year + 10) / 365) / 180 * np.pi\n",
    "    \n",
    "    #latitude\n",
    "    PHI = latitude / 180 * np.pi\n",
    "    TSN = solarTimeNoon\n",
    "    \n",
    "    #time angle\n",
    "    h = 15 * (hour_of_day - TSN) / 180 * np.pi\n",
    "    THETAS = math.asin((math.cos(h) * math.cos(DERTA) * math.cos(PHI) + math.sin(DERTA) * math.sin(PHI)))\n",
    "    \n",
    "    temp = (float)(math.sin(DERTA) * math.cos(PHI) - math.cos(h) * math.cos(DERTA) * math.sin(PHI)) / cos(THETAS)\n",
    "    \n",
    "    PHYS = 0\n",
    "    if temp >= 1:\n",
    "        PHYS = 0\n",
    "    elif temp <= -1:\n",
    "        PHYS = np.pi\n",
    "    else:\n",
    "        PHYS = math.acos(temp)\n",
    "        \n",
    "    if h > 0:\n",
    "        PHYS = np.pi - PHYS\n",
    "        \n",
    "    elevationAngle = THETAS\n",
    "    azimuthAngle = PHYS\n",
    "    \n",
    "    if elevationAngle >= 0:\n",
    "        #Vect v\n",
    "        #v.x = cos(elevationAngle) * cos(azimuthAngle)\n",
    "        #v.y = cos(elevationAngle) * sin(azimuthAngle)\n",
    "        #v.z = -sin(elevationAngle)\n",
    "        \n",
    "        #direct_light_d_list.push_back(v)\n",
    "        \n",
    "        #DIRECT LIGHT\n",
    "        PPFD1 = kSOLAR_constant * np.power(atmosphericTransmittance, 1 / math.sin(elevationAngle)) * math.sin(elevationAngle)\n",
    "        #DIFFUSE LIGHT\n",
    "        #PPFD2 = 0.5 * kSOLAR_constant * (1 - np.power(atmosphericTransmittance, 1 / math.sin(elevationAngle))) * math.sin(elevationAngle)\n",
    "        \n",
    "        #ppfd_direct_light.push_back(PPFD1)\n",
    "        #ppfd_diffuse_light.push_back(PPFD2)\n",
    "    else: \n",
    "        #Vect v\n",
    "        #v.x = 0\n",
    "        #v.y = 0\n",
    "        #v.z = 0\n",
    "        #direct_light_d_list.push_back(v)\n",
    "        \n",
    "        PPFD1 = 0\n",
    "        PPFD2 = 0\n",
    "        \n",
    "        #ppfd_direct_light.push_back(PPFD1)\n",
    "        #ppfd_diffuse_light.push_back(PPFD2)\n",
    "        "
   ]
  },
  {
   "cell_type": "code",
   "execution_count": 7,
   "metadata": {},
   "outputs": [],
   "source": [
    "def sun_energy_total():\n",
    "    #surface temp of sun\n",
    "    T = 5800 #Kelvin\n",
    "    \n",
    "    #radius of sun\n",
    "    R = 6.995 * 10**8 #meters\n",
    "    \n",
    "    #stefan's constant\n",
    "    stefan = 5.67 * 10**-8 #Wm^-2K^-4\n",
    "    \n",
    "    #equation for thermal energy per second (power) radiated by sun\n",
    "    power = 4 * np.pi * (R)**2 * stefan * (T)**4 #Watts\n",
    "    print(\"total sun energy per second:\", power)\n",
    "    \n",
    "    #per minute\n",
    "    energy = power * 60 #Joules\n",
    "    print(\"total sun energy per minute:\", energy)\n",
    "    \n",
    "    #per hour\n",
    "    #energy_per_hour = power * 60 * 60\n",
    "    #print(energy_per_hour)\n",
    "    "
   ]
  },
  {
   "cell_type": "code",
   "execution_count": 8,
   "metadata": {},
   "outputs": [
    {
     "name": "stdout",
     "output_type": "stream",
     "text": [
      "total sun energy per second: 3.945302746541945e+26\n",
      "total sun energy per minute: 2.3671816479251673e+28\n"
     ]
    }
   ],
   "source": [
    "sun_energy_total()"
   ]
  },
  {
   "cell_type": "code",
   "execution_count": 9,
   "metadata": {},
   "outputs": [],
   "source": [
    "#energy of photon = Planck's constant as h * frequency (oscillations per second in Hertz)\n",
    "#Planck's constant: 6.626 * 10^-34 Js\n",
    "#single photon = h * C / lamba (in Joules)\n",
    "\n",
    "#energy (watts * time) --> go through conversion to get units we want (Joules * seconds)\n",
    "\n",
    "#https://www.youtube.com/watch?v=Zqt3btS1FwE"
   ]
  },
  {
   "cell_type": "code",
   "execution_count": 44,
   "metadata": {},
   "outputs": [],
   "source": [
    "def power_atmosphere(zenith_angle):\n",
    "\n",
    "    sun_surface_energy = 6.33 * 10**7 #watts / meter squared\n",
    "\n",
    "    #equals (6.33 * 10**7 W/m^2)*(surface area of sun) / (4pi)((distance form earth to sun)^2)\n",
    "    solar_constant = 1367 #watts / meter squared\n",
    "\n",
    "    #outside of the atmosphere\n",
    "    extraterrestrial_irradiance = solar_constant * (1 + 0.034 * math.cos((2 * np.pi) * (day_of_year / 265.25)))\n",
    "    #print(extraterrestrial_irradiance)\n",
    "    \n",
    "    cos_zenith_angle = math.cos(zenith_angle)\n",
    "    #print(cos_zenith_angle)\n",
    "\n",
    "    #instantaneous power at this time\n",
    "    power_without_atmosphere = extraterrestrial_irradiance * cos_zenith_angle #watts / meter squared\n",
    "    #print(power_without_atmosphere)\n",
    "\n",
    "    #atmospheric effects\n",
    "    #take into account cloudy vs. sunny\n",
    "    #rayleigh scattering \n",
    "\n",
    "    #equation 2.3: how much air the sun has to go through to get to a point (not taking into account weather/clouds)\n",
    "    #ranges from 0 to 2 --> amount getting blocked by the atmosphere\n",
    "\n",
    "    #constants\n",
    "    radius_of_earth = 6370 #kilometers\n",
    "    #FIX: need to figure out how to adjust based on location on earth\n",
    "    thickness_of_atmosphere = 7991 #kilometers \n",
    "    #atmospheric effects --> does not take into account various atmospheric effects\n",
    "    air_mass = (((radius_of_earth / thickness_of_atmosphere) * math.cos(zenith_angle))**2 + (2 * (radius_of_earth / thickness_of_atmosphere) + 1))**.5 - ((radius_of_earth / thickness_of_atmosphere) * math.cos(zenith_angle))\n",
    "    #print(air_mass)\n",
    "\n",
    "    half_air_mass = air_mass / 2\n",
    "    #print(half_air_mass)\n",
    "\n",
    "    power_with_atmosphere = power_without_atmosphere * half_air_mass #watts / meter squared\n",
    "    print(\"power_with_atmosphere: \", power_with_atmosphere)\n",
    "\n",
    "    return power_with_atmosphere\n",
    "   "
   ]
  },
  {
   "cell_type": "code",
   "execution_count": 45,
   "metadata": {},
   "outputs": [
    {
     "name": "stdout",
     "output_type": "stream",
     "text": [
      "power_with_atmosphere:  453.72832148751365\n"
     ]
    },
    {
     "data": {
      "text/plain": [
       "453.72832148751365"
      ]
     },
     "execution_count": 45,
     "metadata": {},
     "output_type": "execute_result"
    }
   ],
   "source": [
    "#FIX: pass in zenith_angle from sun_calcs() return statement\n",
    "power_atmosphere(zenith_angle = 38.692411)"
   ]
  },
  {
   "cell_type": "code",
   "execution_count": 68,
   "metadata": {},
   "outputs": [],
   "source": [
    "def photons_output(power_with_atmosphere):\n",
    "    plancks_constant = 6.626 * 10**-34 #Js\n",
    "    \n",
    "    sample_wavelength = 635 #nanometers (nm)\n",
    "    sample_wavelength_meter = sample_wavelength * (1 * 10**-9)\n",
    "    C = 3.0 * 10**8 #m/s\n",
    "    frequency = C / sample_wavelength_meter #vibrations per second\n",
    "    print(frequency)\n",
    "    \n",
    "    #single photon = h * C / lamba (in Joules)\n",
    "    single_photon = plancks_constant * C / frequency\n",
    "    print(single_photon)\n",
    "    \n",
    "    #1 J/(s * m^2) = watt / m^2\n",
    "    energy_photon = plancks_constant * frequency #Joules\n",
    "    print(energy_photon)\n",
    "    \n",
    "    #calculate number of photons?"
   ]
  },
  {
   "cell_type": "code",
   "execution_count": 69,
   "metadata": {},
   "outputs": [
    {
     "name": "stdout",
     "output_type": "stream",
     "text": [
      "472440944881889.7\n",
      "4.207510000000001e-40\n",
      "3.130393700787401e-19\n"
     ]
    }
   ],
   "source": [
    "photons_output(power_with_atmosphere = 453.728321)"
   ]
  },
  {
   "cell_type": "code",
   "execution_count": null,
   "metadata": {},
   "outputs": [],
   "source": []
  }
 ],
 "metadata": {
  "kernelspec": {
   "display_name": "Python 3",
   "language": "python",
   "name": "python3"
  },
  "language_info": {
   "codemirror_mode": {
    "name": "ipython",
    "version": 3
   },
   "file_extension": ".py",
   "mimetype": "text/x-python",
   "name": "python",
   "nbconvert_exporter": "python",
   "pygments_lexer": "ipython3",
   "version": "3.7.1"
  }
 },
 "nbformat": 4,
 "nbformat_minor": 2
}
