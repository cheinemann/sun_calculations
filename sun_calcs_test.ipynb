{
 "cells": [
  {
   "cell_type": "code",
   "execution_count": 20,
   "metadata": {},
   "outputs": [],
   "source": [
    "import math\n",
    "import numpy as np\n",
    "import matplotlib.pyplot as plt\n",
    "\n",
    "#FIX: take into account daylight savings time like in Example 11.1\n",
    "#ignoring for now\n",
    "\n",
    "\n",
    "#latitude = 46.77 #(in degrees)\n",
    "#longitude = 117.2 #(in degrees)\n",
    "latitude = 22.9068\n",
    "longitude = 43.1729\n",
    "standard_meridian = 120.0 #(in degrees)\n",
    "day_of_year = 181 #equivalent to June 30\n",
    "solar_noon = 12\n",
    "\n",
    "#FIX: take into account fractions of hours as well (will need to convert to decimal hours, i.e., 10:45 becomes 10.75)\n",
    "hour_of_day = 9.75\n",
    "\n",
    "\n",
    "\n",
    "######\n",
    "\n",
    "def sun_calcs(latitude, longitude, standard_meridian, day_of_year, solar_noon, hour_of_day):\n",
    "    #LOCAL MERIDIAN IN DEGREES\n",
    "    local_meridian = standard_meridian - longitude\n",
    "    #FIX: take into account negative longitude\n",
    "    #print(\"local meridian\")\n",
    "    #print(local_meridian)\n",
    "\n",
    "    radians_per_degree = np.pi / 180\n",
    "\n",
    "    radians_rotation_per_hour = 15 * radians_per_degree\n",
    "    axial_tilt = 13.5 * radians_per_degree\n",
    "\n",
    "    phi = latitude * radians_per_degree\n",
    "\n",
    "    #from sun model code in HackMD: https://hackmd.io/98rj0V82RSyrDavaFxQbEg\n",
    "    number_days_after_dec_solstice = day_of_year + 10\n",
    "\n",
    "    omega = 360.0 * (number_days_after_dec_solstice / 365.0) * radians_per_degree\n",
    "    delta = -axial_tilt * math.cos(omega)\n",
    "    tau = (hour_of_day - solar_noon) * radians_rotation_per_hour\n",
    "\n",
    "    #equation of time (in hours)\n",
    "    J = day_of_year\n",
    "    f = 279.575 + (0.9856 * J)\n",
    "\n",
    "    f_rad = math.radians(f)\n",
    "    part_1 = math.sin(f_rad) * -104.7\n",
    "\n",
    "    f2 = f * 2\n",
    "    f2_rad = math.radians(f2)\n",
    "    part_2 = math.sin(f2_rad) * 596.2\n",
    "\n",
    "    f3 = f * 3\n",
    "    f3_rad = math.radians(f3)\n",
    "    part_3 = math.sin(f3_rad) * 4.3\n",
    "\n",
    "    f4 = f * 4\n",
    "    f4_rad = math.radians(f4)\n",
    "    part_4 = math.sin(f4_rad) * 12.7\n",
    "\n",
    "    part_5 = math.cos(f_rad) * 429.3\n",
    "\n",
    "    part_6 = math.cos(f2_rad) * 2.0\n",
    "\n",
    "    part_7 = math.cos(f3_rad) * 19.3\n",
    "\n",
    "    all_together = part_1 + part_2 + part_3 - part_4 - part_5 - part_6 + part_7\n",
    "\n",
    "    equation_of_time = all_together / 3600\n",
    "    #print(\"equation of time\")\n",
    "    #print(equation_of_time)\n",
    "\n",
    "    longitudinal_correction = local_meridian / 15 #in hours\n",
    "    #print(\"logitudinal correction\")\n",
    "    #print(longitudinal_correction)\n",
    "\n",
    "    #time of solar noon (in hours)\n",
    "    t0 = 12 - longitudinal_correction - equation_of_time\n",
    "    #print(\"t0\")\n",
    "    #print(t0)\n",
    "\n",
    "    #solar declination\n",
    "    #should range from +23.45 degrees at summer solstice to -23.45 degrees at winter solstice\n",
    "    times_j = 0.9856 * J\n",
    "    inside_sine = 356.6 + times_j\n",
    "    inside_sine_rad = math.radians(inside_sine)\n",
    "\n",
    "    inner_sin = math.sin(math.radians(inside_sine))\n",
    "\n",
    "    additions = 278.97 + times_j + (1.9165 * inner_sin)\n",
    "    additions_rad = math.radians(additions)\n",
    "    sin_of_adds = math.sin(additions_rad)\n",
    "    times_const = 0.39785 * sin_of_adds\n",
    "\n",
    "    final_in_rad = math.asin(times_const)\n",
    "\n",
    "    solar_declination = math.degrees(final_in_rad)\n",
    "    #print(\"solar declination\")\n",
    "    #print(solar_declination)\n",
    "\n",
    "    #calculate zenith angle\n",
    "\n",
    "    latitude_rad = math.radians(latitude)\n",
    "    solar_declination_rad = math.radians(solar_declination)\n",
    "\n",
    "    sin_1 = math.sin(latitude_rad)\n",
    "    sin_2 = math.sin(solar_declination_rad)\n",
    "    \n",
    "    cos_1 = math.cos(latitude_rad)\n",
    "    cos_2 = math.cos(solar_declination_rad)\n",
    "\n",
    "    inside_cos = 15 * (hour_of_day - t0)\n",
    "    inside_cos_rad = math.radians(inside_cos)\n",
    "\n",
    "    cos_3 = math.cos(inside_cos_rad)\n",
    "\n",
    "    before_arccos = (sin_1 * sin_2) + (cos_1 * cos_2 * cos_3)\n",
    "    \n",
    "    zenith_angle_rad = math.acos(before_arccos)\n",
    "\n",
    "    zenith_angle = math.degrees(zenith_angle_rad)\n",
    "    #print(\"zenith angle\")\n",
    "    #print(zenith_angle)\n",
    "\n",
    "    ###FIX: using hard coded 96-->need to figure out where it is coming from\n",
    "    ninety_six_rad = math.radians(96)\n",
    "    first_cos = math.cos(ninety_six_rad)\n",
    "\n",
    "    sins = math.sin(latitude_rad) * math.sin(solar_declination_rad)\n",
    "\n",
    "    cosines = math.cos(latitude_rad) * math.cos(solar_declination_rad)\n",
    "\n",
    "    equation = (first_cos - sins) / cosines\n",
    "    \n",
    "    #FIX: get error at certain latitudes/longitudes\n",
    "    equation_acos = math.acos(equation)\n",
    "\n",
    "    half_daylength = math.degrees(equation_acos)\n",
    "    #print(\"half daylength\")\n",
    "    #print(half_daylength)\n",
    "\n",
    "    time_sunrise = solar_noon - (half_daylength / 15)\n",
    "    #print(\"time sunrise\")\n",
    "    #print(time_sunrise)\n",
    "\n",
    "    hours = half_daylength * (1 / 15)\n",
    "    #print(\"hours\")\n",
    "    #print(hours)\n",
    "\n",
    "    first_twilight = t0 - hours\n",
    "    #print(\"first twilight\")\n",
    "    #print(first_twilight)\n",
    "\n",
    "    daylength = 2 * hours\n",
    "    #print(\"daylength\")\n",
    "    #print(daylength)\n",
    "\n",
    "    #FIX: including a +1 to take care of daylight savings time for now\n",
    "    time_sunrise = first_twilight + longitudinal_correction + equation_of_time + 1\n",
    "    #print(\"time sunrise\")\n",
    "    #print(time_sunrise)\n",
    "\n",
    "    return {'zenith': zenith_angle, 'half_daylength': half_daylength, 'time_sunrise': time_sunrise, 'hours': hours,\n",
    "           'first_twilight': first_twilight, 'daylength': daylength}\n"
   ]
  },
  {
   "cell_type": "code",
   "execution_count": 13,
   "metadata": {},
   "outputs": [
    {
     "data": {
      "text/plain": [
       "{'zenith': 38.6924118268674,\n",
       " 'half_daylength': 107.74948351635341,\n",
       " 'time_sunrise': 5.816701098909773,\n",
       " 'hours': 7.183298901090227,\n",
       " 'first_twilight': -0.24711249379361266,\n",
       " 'daylength': 14.366597802180454}"
      ]
     },
     "execution_count": 13,
     "metadata": {},
     "output_type": "execute_result"
    }
   ],
   "source": [
    "sun_calcs(latitude, longitude, standard_meridian, day_of_year, solar_noon, hour_of_day)"
   ]
  },
  {
   "cell_type": "code",
   "execution_count": 3,
   "metadata": {},
   "outputs": [],
   "source": [
    "latitude = 46.77 #(in degrees)\n",
    "longitude = 117.2 #(in degrees)\n",
    "standard_meridian = 120.0 #(in degrees)\n",
    "day_of_year = 181 #equivalent to June 30\n",
    "solar_noon = 12\n",
    "\n",
    "#FIX: take into account fractions of hours as well (will need to convert to decimal hours, i.e., 10:45 becomes 10.75)\n",
    "hour_of_day = 9.75\n",
    "\n",
    "#FIX: figure out where this came from in old raytracer\n",
    "kSOLAR_constant = 2600"
   ]
  },
  {
   "cell_type": "code",
   "execution_count": 17,
   "metadata": {},
   "outputs": [],
   "source": [
    "import pandas as pd"
   ]
  },
  {
   "cell_type": "code",
   "execution_count": 18,
   "metadata": {},
   "outputs": [],
   "source": [
    "vals = []\n",
    "for doy in np.arange(365):\n",
    "    vals.append(sun_calcs(latitude, longitude, standard_meridian, doy, solar_noon, hour_of_day))\n",
    "df = pd.DataFrame(vals)"
   ]
  },
  {
   "cell_type": "code",
   "execution_count": 27,
   "metadata": {},
   "outputs": [
    {
     "data": {
      "text/plain": [
       "[<matplotlib.lines.Line2D at 0x7f622f058350>]"
      ]
     },
     "execution_count": 27,
     "metadata": {},
     "output_type": "execute_result"
    },
    {
     "data": {
      "image/png": "[encoded data removed]",
      "text/plain": [
       "<Figure size 432x288 with 1 Axes>"
      ]
     },
     "metadata": {
      "needs_background": "light"
     },
     "output_type": "display_data"
    }
   ],
   "source": [
    "plt.plot(\"zenith\", data=df)"
   ]
  },
  {
   "cell_type": "code",
   "execution_count": 16,
   "metadata": {},
   "outputs": [
    {
     "data": {
      "text/plain": [
       "[<matplotlib.lines.Line2D at 0x7f6231101c10>]"
      ]
     },
     "execution_count": 16,
     "metadata": {},
     "output_type": "execute_result"
    },
    {
     "data": {
      "image/png": "[encoded data removed]",
      "text/plain": [
       "<Figure size 432x288 with 1 Axes>"
      ]
     },
     "metadata": {
      "needs_background": "light"
     },
     "output_type": "display_data"
    }
   ],
   "source": [
    "plt.plot(daylengths)"
   ]
  },
  {
   "cell_type": "code",
   "execution_count": 4,
   "metadata": {},
   "outputs": [],
   "source": [
    "def calculation_PPFD(latitude, longitude, standard_meridian, day_of_year, solar_noon, hour_of_day):\n",
    "\n",
    "    h = 15 * (hour_of_day - solar_noon) / 180 * np.pi\n",
    "    print(h)\n",
    "\n",
    "    derta = -23.45 * np.cos(2 * np.pi * (day_of_year + 10) / 365) / 180 * np.pi\n",
    "    phi = latitude / 180 * np.pi\n",
    "    #FIX: double check the arcsin calculations here\n",
    "    thetas = np.arcsin((np.cos(h) * np.cos(derta) * np.cos(phi) + np.sin(derta) * np.sin(phi)))\n",
    "\n",
    "    temp = (np.sin(derta) * np.cos(phi) - np.cos(h) * np.cos(derta) * np.sin(phi)) / np.cos(thetas)\n",
    "\n",
    "    phys = 0\n",
    "\n",
    "    if temp >= 1:\n",
    "        phys = 0\n",
    "    else:\n",
    "        if temp < -1:\n",
    "            temp = -1\n",
    "\n",
    "    if h > 0:\n",
    "        phys = -phys\n",
    "\n",
    "    elevationAngle = thetas\n",
    "    azimuthAngle = phys\n",
    "\n",
    "    #Vect v\n",
    "    #v.x = cos(elevationAngle) * cos(azimuthAngle)\n",
    "    #v.y = cos(elevationAngle) * sin(azimuthAngle)\n",
    "    #v.z = -sin(elevationAngle)\n",
    "\n",
    "    ppfd = kSOLAR_constant * np.power(1.0, (1 / np.sin(elevationAngle))) * np.sin(elevationAngle)\n",
    "\n",
    "    #PPFD_dir_light_per_triangle[current_pixel] = ppfd\n"
   ]
  },
  {
   "cell_type": "code",
   "execution_count": 31,
   "metadata": {},
   "outputs": [
    {
     "data": {
      "text/plain": [
       "1.0"
      ]
     },
     "execution_count": 31,
     "metadata": {},
     "output_type": "execute_result"
    }
   ],
   "source": [
    "1**(-3)"
   ]
  },
  {
   "cell_type": "code",
   "execution_count": 8,
   "metadata": {},
   "outputs": [
    {
     "name": "stdout",
     "output_type": "stream",
     "text": [
      "local meridian\n",
      "2.799999999999997\n",
      "equation of time\n",
      "-0.05799307396328135\n",
      "logitudinal correction\n",
      "0.18666666666666648\n",
      "t0\n",
      "11.871326407296616\n",
      "solar declination\n",
      "23.22970127409204\n",
      "zenith angle\n",
      "34.695745258285385\n",
      "half daylength\n",
      "128.5108818439009\n",
      "time sunrise\n",
      "3.4326078770732735\n",
      "hours\n",
      "8.567392122926726\n",
      "first twilight\n",
      "3.3039342843698893\n",
      "daylength\n",
      "17.134784245853453\n",
      "time sunrise\n",
      "4.432607877073274\n",
      "-0.5890486225480862\n"
     ]
    }
   ],
   "source": [
    "a = sun_calcs(latitude, longitude, standard_meridian, day_of_year, solar_noon, hour_of_day)\n",
    "calculation_PPFD(latitude, longitude, standard_meridian, day_of_year, solar_noon, hour_of_day)"
   ]
  },
  {
   "cell_type": "code",
   "execution_count": 7,
   "metadata": {},
   "outputs": [],
   "source": [
    "import numpy as np"
   ]
  },
  {
   "cell_type": "code",
   "execution_count": 9,
   "metadata": {},
   "outputs": [],
   "source": [
    "a"
   ]
  },
  {
   "cell_type": "code",
   "execution_count": null,
   "metadata": {},
   "outputs": [],
   "source": []
  }
 ],
 "metadata": {
  "kernelspec": {
   "display_name": "Python 3",
   "language": "python",
   "name": "python3"
  },
  "language_info": {
   "codemirror_mode": {
    "name": "ipython",
    "version": 3
   },
   "file_extension": ".py",
   "mimetype": "text/x-python",
   "name": "python",
   "nbconvert_exporter": "python",
   "pygments_lexer": "ipython3",
   "version": "3.7.6"
  }
 },
 "nbformat": 4,
 "nbformat_minor": 4
}
